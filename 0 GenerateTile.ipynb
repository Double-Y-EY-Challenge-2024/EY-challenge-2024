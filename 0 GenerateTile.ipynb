{
 "cells": [
  {
   "cell_type": "code",
   "execution_count": 1,
   "metadata": {
    "colab": {
     "base_uri": "https://localhost:8080/"
    },
    "id": "d7u1JZmLjODR",
    "outputId": "c3f55870-0802-4219-b27f-ef9c1b69d3cc"
   },
   "outputs": [
    {
     "name": "stdout",
     "output_type": "stream",
     "text": [
      "Cloning into 'image_bbox_tiler'...\n",
      "remote: Enumerating objects: 186, done.\u001b[K\n",
      "remote: Counting objects: 100% (43/43), done.\u001b[K\n",
      "remote: Compressing objects: 100% (32/32), done.\u001b[K\n",
      "remote: Total 186 (delta 21), reused 27 (delta 11), pack-reused 143\u001b[K\n",
      "Receiving objects: 100% (186/186), 11.67 MiB | 30.49 MiB/s, done.\n",
      "Resolving deltas: 100% (88/88), done.\n"
     ]
    }
   ],
   "source": [
    "!git clone https://github.com/jcpayne/image_bbox_tiler.git"
   ]
  },
  {
   "cell_type": "code",
   "execution_count": 2,
   "metadata": {
    "colab": {
     "base_uri": "https://localhost:8080/"
    },
    "id": "k_-dzMD4jO27",
    "outputId": "f4c800e2-5088-4ff5-a238-b504973e6e59"
   },
   "outputs": [
    {
     "name": "stdout",
     "output_type": "stream",
     "text": [
      "/content/image_bbox_tiler\n"
     ]
    }
   ],
   "source": [
    "%cd image_bbox_tiler"
   ]
  },
  {
   "cell_type": "code",
   "execution_count": 3,
   "metadata": {
    "colab": {
     "base_uri": "https://localhost:8080/"
    },
    "id": "1IGcRYKEk0b2",
    "outputId": "65b7041d-91bd-45eb-cd11-87f5baedf964"
   },
   "outputs": [
    {
     "name": "stdout",
     "output_type": "stream",
     "text": [
      "Collecting pascal_voc_writer\n",
      "  Downloading pascal_voc_writer-0.1.4-py2.py3-none-any.whl (4.0 kB)\n",
      "Requirement already satisfied: jinja2 in /usr/local/lib/python3.10/dist-packages (from pascal_voc_writer) (3.1.3)\n",
      "Requirement already satisfied: MarkupSafe>=2.0 in /usr/local/lib/python3.10/dist-packages (from jinja2->pascal_voc_writer) (2.1.5)\n",
      "Installing collected packages: pascal_voc_writer\n",
      "Successfully installed pascal_voc_writer-0.1.4\n"
     ]
    }
   ],
   "source": [
    "!pip install pascal_voc_writer"
   ]
  },
  {
   "cell_type": "code",
   "execution_count": 16,
   "metadata": {
    "id": "-u0R4hWsjO5L"
   },
   "outputs": [],
   "source": [
    "from image_bbox_slicer import main as ibs"
   ]
  },
  {
   "cell_type": "code",
   "execution_count": 17,
   "metadata": {
    "colab": {
     "base_uri": "https://localhost:8080/"
    },
    "id": "aealLiAsjO7T",
    "outputId": "67cba6c8-30e5-42fd-83ed-23d13c370162"
   },
   "outputs": [
    {
     "name": "stderr",
     "output_type": "stream",
     "text": [
      "/content/image_bbox_tiler/image_bbox_slicer/helpers.py:113: UserWarning: Destination directory /content/dst/images already has some files\n",
      "  warnings.warn(\n",
      "/content/image_bbox_tiler/image_bbox_slicer/helpers.py:113: UserWarning: Destination directory /content/dst/annotations already has some files\n",
      "  warnings.warn(\n"
     ]
    }
   ],
   "source": [
    "im_src = '/content/src/images'\n",
    "an_src = '/content/src/annotations'\n",
    "im_dst = '/content/dst/images'\n",
    "an_dst = '/content/dst/annotations'\n",
    "\n",
    "slicer = ibs.Slicer()\n",
    "slicer.config_dirs(img_src=im_src, ann_src=an_src,\n",
    "                   img_dst=im_dst, ann_dst=an_dst)"
   ]
  },
  {
   "cell_type": "code",
   "execution_count": 18,
   "metadata": {
    "id": "ObLxztEfjO9i"
   },
   "outputs": [],
   "source": [
    "slicer.keep_partial_labels = True\n",
    "slicer.ignore_empty_tiles = True\n",
    "slicer.save_before_after_map = True"
   ]
  },
  {
   "cell_type": "code",
   "execution_count": null,
   "metadata": {
    "id": "IMAknabBkVH9"
   },
   "outputs": [],
   "source": [
    "slicer.slice_by_size(tile_size=(512,512), tile_overlap=0,empty_sample=0.0)"
   ]
  },
  {
   "cell_type": "code",
   "execution_count": null,
   "metadata": {
    "id": "wrmwV8HIlU_5"
   },
   "outputs": [],
   "source": []
  }
 ],
 "metadata": {
  "colab": {
   "provenance": []
  },
  "kernelspec": {
   "display_name": "Python 3 (ipykernel)",
   "language": "python",
   "name": "python3"
  },
  "language_info": {
   "codemirror_mode": {
    "name": "ipython",
    "version": 3
   },
   "file_extension": ".py",
   "mimetype": "text/x-python",
   "name": "python",
   "nbconvert_exporter": "python",
   "pygments_lexer": "ipython3",
   "version": "3.8.10"
  }
 },
 "nbformat": 4,
 "nbformat_minor": 4
}
